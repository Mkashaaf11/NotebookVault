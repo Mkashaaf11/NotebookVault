{
 "cells": [
  {
   "cell_type": "code",
   "execution_count": 3,
   "id": "77092fa4",
   "metadata": {},
   "outputs": [],
   "source": [
    "import tensorflow as tf\n"
   ]
  },
  {
   "cell_type": "code",
   "execution_count": 4,
   "id": "6beaf6c2",
   "metadata": {},
   "outputs": [
    {
     "name": "stdout",
     "output_type": "stream",
     "text": [
      "Downloading data from https://storage.googleapis.com/tensorflow/tf-keras-datasets/mnist.npz\n",
      "11493376/11490434 [==============================] - 5s 0us/step\n",
      "WARNING:tensorflow:From D:\\anaconda3\\envs\\testenv\\lib\\site-packages\\tensorflow\\python\\ops\\init_ops.py:1251: calling VarianceScaling.__init__ (from tensorflow.python.ops.init_ops) with dtype is deprecated and will be removed in a future version.\n",
      "Instructions for updating:\n",
      "Call initializer instance with the dtype argument instead of passing it to the constructor\n",
      "Epoch 1/3\n",
      "60000/60000 [==============================] - 9s 151us/sample - loss: 0.2612 - acc: 0.9245\n",
      "Epoch 2/3\n",
      "60000/60000 [==============================] - 8s 137us/sample - loss: 0.1065 - acc: 0.9669\n",
      "Epoch 3/3\n",
      "60000/60000 [==============================] - 8s 139us/sample - loss: 0.0731 - acc: 0.9771\n"
     ]
    },
    {
     "data": {
      "text/plain": [
       "<tensorflow.python.keras.callbacks.History at 0x1c1f223cd88>"
      ]
     },
     "execution_count": 4,
     "metadata": {},
     "output_type": "execute_result"
    }
   ],
   "source": [
    "mnist = tf.keras.datasets.mnist\n",
    "(x_train,y_train),(x_test,y_test)= mnist.load_data()\n",
    "x_train = tf.keras.utils.normalize(x_train,axis=1)\n",
    "x_test = tf.keras.utils.normalize(x_test,axis=1)\n",
    "\n",
    "model = tf.keras.models.Sequential()\n",
    "model.add(tf.keras.layers.Flatten())\n",
    "model.add(tf.keras.layers.Dense(128,activation = tf.nn.relu))\n",
    "model.add(tf.keras.layers.Dense(128,activation = tf.nn.relu))\n",
    "model.add(tf.keras.layers.Dense(10,activation = tf.nn.softmax))\n",
    "model.compile(optimizer='adam',loss='sparse_categorical_crossentropy',metrics= ['accuracy'])\n",
    "model.fit(x_train,y_train,epochs=3)\n"
   ]
  },
  {
   "cell_type": "code",
   "execution_count": 13,
   "id": "3e0fee95",
   "metadata": {},
   "outputs": [
    {
     "name": "stdout",
     "output_type": "stream",
     "text": [
      "60000/60000 [==============================] - 5s 86us/sample - loss: 0.0565 - acc: 0.9820\n",
      "0.05648821933039774 0.9819667\n"
     ]
    }
   ],
   "source": [
    "val_loss,val_acc=model.evaluate(x_train,y_train)\n",
    "print(val_loss,val_acc)"
   ]
  },
  {
   "cell_type": "code",
   "execution_count": 11,
   "id": "13d52afe",
   "metadata": {},
   "outputs": [],
   "source": [
    "model.save('Practice_model.model')\n"
   ]
  },
  {
   "cell_type": "code",
   "execution_count": 20,
   "id": "c883db68",
   "metadata": {},
   "outputs": [],
   "source": [
    "\n",
    "predictions = model.predict(x_test)\n"
   ]
  },
  {
   "cell_type": "code",
   "execution_count": 21,
   "id": "c6d00555",
   "metadata": {},
   "outputs": [
    {
     "name": "stdout",
     "output_type": "stream",
     "text": [
      "[[4.2527759e-09 2.7352622e-08 1.1194512e-06 ... 9.9998283e-01\n",
      "  3.7903714e-08 2.3957768e-06]\n",
      " [1.1235108e-07 6.0349350e-05 9.9983525e-01 ... 2.9573279e-09\n",
      "  1.6471537e-05 2.3607766e-08]\n",
      " [2.0808429e-06 9.9863094e-01 7.0247274e-06 ... 5.4588012e-04\n",
      "  1.6800106e-04 1.7798096e-05]\n",
      " ...\n",
      " [4.3961893e-11 4.4490601e-08 1.1613193e-09 ... 5.2359392e-06\n",
      "  1.1093699e-08 1.9489899e-07]\n",
      " [4.2510212e-07 2.7822129e-08 3.0618121e-08 ... 5.1464838e-07\n",
      "  2.0184361e-03 1.5370819e-08]\n",
      " [1.8717399e-06 1.4042105e-07 3.5102738e-07 ... 2.2489598e-08\n",
      "  9.1882868e-07 2.4793187e-10]]\n"
     ]
    }
   ],
   "source": [
    "print(predictions)"
   ]
  },
  {
   "cell_type": "code",
   "execution_count": 23,
   "id": "2ff4b442",
   "metadata": {},
   "outputs": [
    {
     "name": "stdout",
     "output_type": "stream",
     "text": [
      "2\n"
     ]
    }
   ],
   "source": [
    "import numpy as np\n",
    "print(np.argmax(predictions[1]))"
   ]
  },
  {
   "cell_type": "code",
   "execution_count": 26,
   "id": "948aa61f",
   "metadata": {},
   "outputs": [
    {
     "data": {
      "image/png": "[encoded data removed]",
      "text/plain": [
       "<Figure size 640x480 with 1 Axes>"
      ]
     },
     "metadata": {},
     "output_type": "display_data"
    }
   ],
   "source": [
    "import matplotlib.pyplot as plt\n",
    "plt.imshow(x_test[1])\n",
    "plt.show()"
   ]
  },
  {
   "cell_type": "code",
   "execution_count": null,
   "id": "08a22629",
   "metadata": {},
   "outputs": [],
   "source": []
  }
 ],
 "metadata": {
  "kernelspec": {
   "display_name": "testenv",
   "language": "python",
   "name": "testenv"
  },
  "language_info": {
   "codemirror_mode": {
    "name": "ipython",
    "version": 3
   },
   "file_extension": ".py",
   "mimetype": "text/x-python",
   "name": "python",
   "nbconvert_exporter": "python",
   "pygments_lexer": "ipython3",
   "version": "3.7.12"
  }
 },
 "nbformat": 4,
 "nbformat_minor": 5
}
