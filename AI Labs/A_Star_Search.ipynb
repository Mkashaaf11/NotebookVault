{
  "nbformat": 4,
  "nbformat_minor": 0,
  "metadata": {
    "colab": {
      "provenance": []
    },
    "kernelspec": {
      "name": "python3",
      "display_name": "Python 3"
    },
    "language_info": {
      "name": "python"
    }
  },
  "cells": [
    {
      "cell_type": "markdown",
      "source": [
        "**A Star:**"
      ],
      "metadata": {
        "id": "Idf5rPk8Px_x"
      }
    },
    {
      "cell_type": "code",
      "source": [
        "\n",
        "class Tree:\n",
        "\n",
        "    nodes = {\n",
        "     'S': [('A', 1), ('G', 10)],\n",
        "     'A': [('B', 2),('C',1)],\n",
        "     'C': [('D', 5),('G',4)],\n",
        "     'D': [('C',5),('G',0),('B',5)],\n",
        "     'B': [('A',2),('D',5)],\n",
        "     'G': [('D',0),('C',4),('S',10)]\n",
        "     }\n",
        "\n",
        "    def __init__(self, nodes):\n",
        "        self.nodes = nodes\n",
        "\n",
        "    def get_neighbors(self, curr):\n",
        "        return self.nodes[curr]\n",
        "\n",
        "    def heuristic(self, curr):\n",
        "        H_table = {\n",
        "            'A': 5,\n",
        "            'S': 5,\n",
        "            'B': 4,\n",
        "            'C': 2,\n",
        "            'D': 6,\n",
        "            'G':0\n",
        "        }\n",
        "\n",
        "        return H_table[curr]\n",
        "\n",
        "    def a_star_algorithm(self, start_node, end_node):\n",
        "        open_list = set([start_node])\n",
        "        closed_list = set([])\n",
        "\n",
        "\n",
        "        distance = {}\n",
        "        distance[start_node] = 0\n",
        "\n",
        "        while len(open_list) > 0:\n",
        "            n = None\n",
        "\n",
        "            for node in open_list:\n",
        "                if n == None or distance[node] + self.heuristic(node) < distance[n] + self.heuristic(n):\n",
        "                    n = node;\n",
        "\n",
        "            if n == None:\n",
        "                print('Path does not exist!')\n",
        "                return None\n",
        "            if n == end_node:\n",
        "                print('Goal node G found with distance :',distance[n])\n",
        "                return\n",
        "\n",
        "            for (m, cost) in self.get_neighbors(n):\n",
        "\n",
        "                if m not in open_list and m not in closed_list:\n",
        "                    open_list.add(m)\n",
        "                    distance[m] = distance[n] + cost\n",
        "\n",
        "\n",
        "                else:\n",
        "                    if distance[m] > distance[n] + cost:\n",
        "                        distance[m] = distance[n] + cost\n",
        "\n",
        "                        if m in closed_list:\n",
        "                            closed_list.remove(m)\n",
        "                            open_list.add(m)\n",
        "\n",
        "            open_list.remove(n)\n",
        "            closed_list.add(n)\n",
        "\n",
        "        print('Path does not exist!')\n",
        "        return None\n",
        "\n",
        "tree = Tree(Tree.nodes)\n",
        "tree.a_star_algorithm('S','G')"
      ],
      "metadata": {
        "colab": {
          "base_uri": "https://localhost:8080/"
        },
        "id": "ZcEf-UJnrbou",
        "outputId": "61d442de-fc87-4137-ca7e-7a1499bce5d0"
      },
      "execution_count": null,
      "outputs": [
        {
          "output_type": "stream",
          "name": "stdout",
          "text": [
            "Goal node G found with distance : 6\n"
          ]
        }
      ]
    },
    {
      "cell_type": "markdown",
      "source": [
        " (A* search)"
      ],
      "metadata": {
        "id": "ixBA9wnWV99z"
      }
    },
    {
      "cell_type": "code",
      "source": [
        "from queue import PriorityQueue\n",
        "\n",
        "def heuristic(x, y):\n",
        "    return abs(y[0] - x[0]) + abs(y[1] - x[1])\n",
        "\n",
        "def astar_search(maze, start, goal):\n",
        "    closest = PriorityQueue()\n",
        "    closest.put(start, 0)\n",
        "    path, cost = {start: None}, {start: 0}\n",
        "\n",
        "    while not closest.empty():\n",
        "        current = closest.get()\n",
        "        if current == goal:\n",
        "            print(\"found goal node at\",current)\n",
        "            break\n",
        "            #All cases for above,right,left,below\n",
        "        for neighbor in [(current[0]-1, current[1]), (current[0], current[1]+1), (current[0]+1, current[1]), (current[0], current[1]-1)]:\n",
        "            x, y = neighbor\n",
        "            #if valid\n",
        "            if 0 <= x < len(maze) and 0 <= y < len(maze[0]) and maze[x][y] != \"B\":\n",
        "                new_cost = cost[current] + maze[x][y]\n",
        "                if neighbor not in cost or new_cost < cost[neighbor]:\n",
        "                    cost[neighbor] = new_cost\n",
        "                    #lower the cost+hueristic, higher the priority in queue\n",
        "                    priority = new_cost + heuristic(goal, neighbor)\n",
        "                    closest.put(neighbor, priority)\n",
        "                    path[neighbor] = current\n",
        "\n",
        "    #printing the path\n",
        "    current_node = goal\n",
        "    while current_node is not None:\n",
        "        print(current_node, end=\" <- \")\n",
        "        current_node = path[current_node]\n",
        "    return cost\n",
        "\n",
        "\n",
        "maze = [\n",
        "        [0, 16, 15, 14, 'B', 12, 11, 10, 9, 8, 7, 6],\n",
        "        ['B', 'B', 'B', 13, 'B', 11, 'B', 'B', 'B', 'B', 'B', 5],\n",
        "        ['B', 14, 13, 12, 'B', 10, 9, 8, 7, 6, 'B', 4],\n",
        "        ['B', 13, 'B', 11, 'B', 'B', 'B', 'B', 'B', 5, 'B', 3],\n",
        "        ['B', 12, 'B', 10, 9, 8, 7, 6, 5, 4, 'B', 2],\n",
        "        ['B', 11, 'B', 'B', 'B', 'B', 'B', 'B', 'B', 'B', 'B', 1],\n",
        "        ['B', 10, 9, 8, 7, 6, 5, 4, 3, 2, 1, 0]\n",
        "    ]\n",
        "\n",
        "start, goal = (0, 0), (6, 11)\n",
        "cost = astar_search(maze, start, goal)\n",
        "print(\"\\n\")\n",
        "print(\"Cost:\", cost)\n",
        "\n",
        "\n"
      ],
      "metadata": {
        "colab": {
          "base_uri": "https://localhost:8080/"
        },
        "id": "UmaNtv3-WCeQ",
        "outputId": "9499627c-f3c0-4954-a46a-be53a93a2030"
      },
      "execution_count": null,
      "outputs": [
        {
          "output_type": "stream",
          "name": "stdout",
          "text": [
            "found goal node at (6, 11)\n",
            "(6, 11) <- (6, 10) <- (6, 9) <- (6, 8) <- (6, 7) <- (6, 6) <- (6, 5) <- (6, 4) <- (6, 3) <- (6, 2) <- (6, 1) <- (5, 1) <- (4, 1) <- (3, 1) <- (2, 1) <- (2, 2) <- (2, 3) <- (1, 3) <- (0, 3) <- (0, 2) <- (0, 1) <- (0, 0) <- \n",
            "\n",
            "Cost: {(0, 0): 0, (0, 1): 16, (0, 2): 31, (0, 3): 45, (1, 3): 58, (2, 3): 70, (3, 3): 81, (2, 2): 83, (2, 1): 97, (3, 1): 110, (4, 1): 122, (4, 3): 91, (5, 1): 133, (4, 4): 100, (4, 5): 108, (4, 6): 115, (4, 7): 121, (4, 8): 126, (4, 9): 130, (3, 9): 135, (2, 9): 141, (2, 8): 148, (2, 7): 156, (2, 6): 165, (2, 5): 175, (1, 5): 186, (0, 5): 198, (0, 6): 209, (0, 7): 219, (0, 8): 228, (0, 9): 236, (0, 10): 243, (0, 11): 249, (1, 11): 254, (2, 11): 258, (3, 11): 261, (4, 11): 263, (5, 11): 264, (6, 1): 143, (6, 11): 188, (6, 2): 152, (6, 3): 160, (6, 4): 167, (6, 5): 173, (6, 6): 178, (6, 7): 182, (6, 8): 185, (6, 9): 187, (6, 10): 188}\n"
          ]
        }
      ]
    },
    {
      "cell_type": "markdown",
      "source": [
        "**(Greedy Best First Search)**"
      ],
      "metadata": {
        "id": "KGCcUUH8znRc"
      }
    },
    {
      "cell_type": "code",
      "source": [
        "from queue import PriorityQueue\n",
        "\n",
        "def heuristic(x, y):\n",
        "    return abs(y[0] - x[0]) + abs(y[1] - x[1])\n",
        "\n",
        "def greedy_best_first_search(maze, start, goal):\n",
        "    closest = PriorityQueue()\n",
        "    closest.put(start, 0)\n",
        "    path = {start: None}\n",
        "    visited = set()\n",
        "\n",
        "    while not closest.empty():\n",
        "        current = closest.get()\n",
        "        visited.add(current)\n",
        "\n",
        "        if current == goal:\n",
        "            print(\"Found goal node at\", current)\n",
        "            break\n",
        "\n",
        "        # All cases for above, right, left, below\n",
        "        for neighbor in [(current[0]-1, current[1]), (current[0], current[1]+1), (current[0]+1, current[1]), (current[0], current[1]-1)]:\n",
        "            x, y = neighbor\n",
        "\n",
        "            # if valid and not visited\n",
        "            if 0 <= x < len(maze) and 0 <= y < len(maze[0]) and maze[x][y] != \"B\" and neighbor not in visited:\n",
        "                # prioritize based on heuristic only\n",
        "                priority = heuristic(goal, neighbor)\n",
        "                closest.put(neighbor, priority)\n",
        "                path[neighbor] = current\n",
        "\n",
        "    # Printing the path\n",
        "    current_node = goal\n",
        "    while current_node is not None:\n",
        "        print(current_node, end=\" <- \")\n",
        "        current_node = path[current_node]\n",
        "\n",
        "maze = [\n",
        "        [0, 16, 15, 14, 'B', 12, 11, 10, 9, 8, 7, 6],\n",
        "        ['B', 'B', 'B', 13, 'B', 11, 'B', 'B', 'B', 'B', 'B', 5],\n",
        "        ['B', 14, 13, 12, 'B', 10, 9, 8, 7, 6, 'B', 4],\n",
        "        ['B', 13, 'B', 11, 'B', 'B', 'B', 'B', 'B', 5, 'B', 3],\n",
        "        ['B', 12, 'B', 10, 9, 8, 7, 6, 5, 4, 'B', 2],\n",
        "        ['B', 11, 'B', 'B', 'B', 'B', 'B', 'B', 'B', 'B', 'B', 1],\n",
        "        ['B', 10, 9, 8, 7, 6, 5, 4, 3, 2, 1, 0]\n",
        "    ]\n",
        "\n",
        "start, goal = (0, 0), (6, 11)\n",
        "greedy_best_first_search(maze, start, goal)\n"
      ],
      "metadata": {
        "colab": {
          "base_uri": "https://localhost:8080/"
        },
        "id": "5oOE2MdYzvLR",
        "outputId": "c6cf3c64-3223-491a-be2e-cc05dd6ab9ee"
      },
      "execution_count": null,
      "outputs": [
        {
          "output_type": "stream",
          "name": "stdout",
          "text": [
            "Found goal node at (6, 11)\n",
            "(6, 11) <- (6, 10) <- (6, 9) <- (6, 8) <- (6, 7) <- (6, 6) <- (6, 5) <- (6, 4) <- (6, 3) <- (6, 2) <- (6, 1) <- (5, 1) <- (4, 1) <- (3, 1) <- (2, 1) <- (2, 2) <- (2, 3) <- (1, 3) <- (0, 3) <- (0, 2) <- (0, 1) <- (0, 0) <- "
          ]
        }
      ]
    }
  ]
}