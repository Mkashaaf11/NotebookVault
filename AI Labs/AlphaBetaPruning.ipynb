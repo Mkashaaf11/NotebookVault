{
  "nbformat": 4,
  "nbformat_minor": 0,
  "metadata": {
    "colab": {
      "provenance": []
    },
    "kernelspec": {
      "name": "python3",
      "display_name": "Python 3"
    },
    "language_info": {
      "name": "python"
    }
  },
  "cells": [
    {
      "cell_type": "markdown",
      "source": [
        "**Mini Max (Alpha Beta Pruning):**"
      ],
      "metadata": {
        "id": "Rvk0nmWLB6Nl"
      }
    },
    {
      "cell_type": "code",
      "source": [
        "import math\n",
        "\n",
        "def minimax(depth, node_index, is_maximizing, values, alpha, beta):\n",
        "    if depth == 3:\n",
        "        return values[node_index]\n",
        "\n",
        "    if is_maximizing:\n",
        "        best_value = -math.inf\n",
        "        for i in range(0, 2):\n",
        "            value = minimax(depth + 1, node_index * 2 + i, False, values, alpha, beta)\n",
        "            best_value = max(best_value, value)\n",
        "            alpha = max(alpha, best_value)\n",
        "            if beta <= alpha:\n",
        "                break\n",
        "        return best_value\n",
        "    else:\n",
        "        best_value = math.inf\n",
        "        for i in range(0, 2):\n",
        "            value = minimax(depth + 1, node_index * 2 + i, True, values, alpha, beta)\n",
        "            best_value = min(best_value, value)\n",
        "            beta = min(beta, best_value)\n",
        "            if beta <= alpha:\n",
        "                break\n",
        "        return best_value\n",
        "\n",
        "if __name__ == \"__main__\":\n",
        "    values = [2, 4, 6, 8, 1, 2, 10, 12]\n",
        "    print(\"The optimal value is:\", minimax(0, 0, True, values, -math.inf, math.inf))\n"
      ],
      "metadata": {
        "colab": {
          "base_uri": "https://localhost:8080/"
        },
        "id": "bhme3zhAB93Z",
        "outputId": "294b3a29-5304-4989-edc9-aac4c2edf5aa"
      },
      "execution_count": null,
      "outputs": [
        {
          "output_type": "stream",
          "name": "stdout",
          "text": [
            "The optimal value is: 4\n"
          ]
        }
      ]
    }
  ]
}