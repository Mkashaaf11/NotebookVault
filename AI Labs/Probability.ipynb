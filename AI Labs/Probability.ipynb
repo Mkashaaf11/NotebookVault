{
  "nbformat": 4,
  "nbformat_minor": 0,
  "metadata": {
    "colab": {
      "provenance": []
    },
    "kernelspec": {
      "name": "python3",
      "display_name": "Python 3"
    },
    "language_info": {
      "name": "python"
    }
  },
  "cells": [
    {
      "cell_type": "markdown",
      "source": [
        "21k-3380"
      ],
      "metadata": {
        "id": "ssWpRZix-osx"
      }
    },
    {
      "cell_type": "code",
      "source": [
        "import random\n",
        "from math import *"
      ],
      "metadata": {
        "id": "hyfTmv-dzKFN"
      },
      "execution_count": 10,
      "outputs": []
    },
    {
      "cell_type": "markdown",
      "source": [
        "Two unbiased dice are thrown once and the total score is observed. Use a simulation to find the estimated probability that the total score is even or greater than 7?\n"
      ],
      "metadata": {
        "id": "e111z09ay65g"
      }
    },
    {
      "cell_type": "code",
      "execution_count": 9,
      "metadata": {
        "colab": {
          "base_uri": "https://localhost:8080/"
        },
        "id": "iL1SmXwFyx-X",
        "outputId": "6fa7de2e-64af-4166-e525-80bb19870f7a"
      },
      "outputs": [
        {
          "output_type": "stream",
          "name": "stdout",
          "text": [
            "Estimated Probability :  0.063\n"
          ]
        }
      ],
      "source": [
        "def findprob(trails):\n",
        "  is_event = 0\n",
        "  for i in range(100):\n",
        "    total = random.randint(1,6) + random.randint(1,6)\n",
        "    if total % 2 == 0 or total > 7:\n",
        "      is_event += 1\n",
        "  prob = is_event/trails\n",
        "  return prob\n",
        "\n",
        "\n",
        "trails = 1000\n",
        "prob=findprob(trails)\n",
        "print(\"Estimated Probability : \",prob)"
      ]
    },
    {
      "cell_type": "markdown",
      "source": [
        "A box contains 10 white balls, 20 reds and 30 greens. Draw 5 balls with replacement… what is the probability that:\n",
        "a) 3 white or 2 red\n",
        "b) All 5 are the same color\n"
      ],
      "metadata": {
        "id": "dsC75bwo4XU5"
      }
    },
    {
      "cell_type": "code",
      "source": [
        "def partA(probWhite,probRed):\n",
        "  ThreeWhite = comb(5,3)*pow(probWhite,3)*pow(1-probWhite,2)\n",
        "  TwoRed = comb(5,2)*pow(probRed,2)*pow(1-probRed,3)\n",
        "  ThreeWhiteOrTwoRed = ThreeWhite + TwoRed\n",
        "  return ThreeWhiteOrTwoRed\n",
        "\n",
        "def partB(probWhite,probRed,probGreen):\n",
        "  return pow(probWhite,5)+pow(probRed,5)+pow(probGreen,5)\n",
        "\n",
        "\n",
        "\n",
        "probofwhite = 10/60\n",
        "probofred = 20/60\n",
        "probofgreen = 30/60\n",
        "ThreeWhiteOrTwoRed=partA(probofwhite,probofred)\n",
        "AllFiveSame = partB(probofwhite,probofred,probofgreen)\n",
        "print(\"Probability that three white or 2 red : \",ThreeWhiteOrTwoRed)\n",
        "print(\"Probability that all 5 are of same color : \",AllFiveSame)"
      ],
      "metadata": {
        "colab": {
          "base_uri": "https://localhost:8080/"
        },
        "id": "leVTnMD84dCs",
        "outputId": "d1afb137-6cf8-4fdb-afea-a788ecd9bfc4"
      },
      "execution_count": 11,
      "outputs": [
        {
          "output_type": "stream",
          "name": "stdout",
          "text": [
            "Probability that three white or 2 red :  0.36136831275720177\n",
            "Probability that all 5 are of same color :  0.035493827160493825\n"
          ]
        }
      ]
    },
    {
      "cell_type": "markdown",
      "source": [
        "The sample space for four sibling children. Each row in the sample space contains 1 of 16 possible outcomes. Every outcome represents a unique combination of four children. The sex of each child is indicated by a letter: B for boy and G for girl. Outcomes with two boys are marked by an arrow. Calculate the probability of two boys.\n"
      ],
      "metadata": {
        "id": "z_OhCMolNl75"
      }
    },
    {
      "cell_type": "code",
      "source": [
        "#There are exactly six rows out of 16 that contain exactly two boys\n",
        "#prob = ActualEvent / TotalEvent\n",
        "\n",
        "S = [\n",
        "    \"BBBB\", \"BBBG\", \"BBGB\", \"BGBB\", \"GBBB\", \"GGBB\", \"GBBG\", \"BBGG\",\n",
        "    \"BGBG\", \"GBGB\", \"BGGB\", \"BGGG\", \"GGGB\", \"GBGG\", \"GGBG\", \"GGGG\"\n",
        "]\n",
        "\n",
        "countEvent = S.count('BBGG')+S.count('BGBG')+S.count('GBBG')+S.count('GBGB')+S.count('GGBB')+S.count('BGGB')\n",
        "\n",
        "\n",
        "ProbTwoBoys =  countEvent/len(S)\n",
        "print(\"probability of two boys: \",ProbTwoBoys)"
      ],
      "metadata": {
        "colab": {
          "base_uri": "https://localhost:8080/"
        },
        "id": "cNUOKNp1Nqnp",
        "outputId": "d19882a5-9651-487f-96f5-00833936a1ca"
      },
      "execution_count": 15,
      "outputs": [
        {
          "output_type": "stream",
          "name": "stdout",
          "text": [
            "probability of two boys:  0.375\n"
          ]
        }
      ]
    },
    {
      "cell_type": "markdown",
      "source": [
        "A coin is tossed twice. What is the probability that at least 1 head occurs?  The sample space for this experiment is S = {HH, HT, TH, TT}.\n"
      ],
      "metadata": {
        "id": "R9D17ANPPmeo"
      }
    },
    {
      "cell_type": "code",
      "source": [
        "S = ['HH','HT','TH','TT']\n",
        "countEvent = S.count('HT')+S.count('HH')+S.count('TH')\n",
        "prob = countEvent/len(S)\n",
        "print(\"Probability of atleast 1 head occuring : \",prob)\n"
      ],
      "metadata": {
        "colab": {
          "base_uri": "https://localhost:8080/"
        },
        "id": "Ez-pomVMPpZ3",
        "outputId": "9c96ea17-c445-4673-8a58-fffa57d7f231"
      },
      "execution_count": 14,
      "outputs": [
        {
          "output_type": "stream",
          "name": "stdout",
          "text": [
            "Probability of atleast 1 head occuring :  0.75\n"
          ]
        }
      ]
    },
    {
      "cell_type": "markdown",
      "source": [
        "A die is loaded in such a way that an even number is twice as likely to occur as an odd number. If E is the event that a number less than 4 occurs on a single toss of the die, find P (E).\n"
      ],
      "metadata": {
        "id": "7iid48NnTPNP"
      }
    },
    {
      "cell_type": "code",
      "source": [
        "# 1,3,5\n",
        "probOdd = 3/6\n",
        "probEven = 2 * probOdd\n",
        "# Now P(E) for s={1,2,3}\n",
        "probnum = 1/6\n",
        "prob = ((probOdd*probnum)+(probEven*probnum)+(probOdd*probnum))\n",
        "print(\"Probability of number less than 4 occurs on a single toss of the die : \",prob)"
      ],
      "metadata": {
        "colab": {
          "base_uri": "https://localhost:8080/"
        },
        "id": "K64HWUGFTSX3",
        "outputId": "ae1c547e-64c3-49b1-9d37-dd1f0eeeb547"
      },
      "execution_count": 1,
      "outputs": [
        {
          "output_type": "stream",
          "name": "stdout",
          "text": [
            "Probability of number less than 4 occurs on a single toss of the die :  0.3333333333333333\n"
          ]
        }
      ]
    },
    {
      "cell_type": "markdown",
      "source": [
        "Let A be the event that an even number turns up and let B be the event that a number divisible by 3 occurs. Find P (A ∪ B) and P (A ∩ B).\n"
      ],
      "metadata": {
        "id": "sUIVYfeY40lr"
      }
    },
    {
      "cell_type": "code",
      "source": [
        "# Probability of event A\n",
        "probA = 3 / 6  # 2, 4, 6\n",
        "\n",
        "# Probability of event B\n",
        "probB = 2 / 6  # 3, 6\n",
        "\n",
        "\n",
        "probIntersection = 1 / 6 # 6\n",
        "\n",
        "probUnion = probA + probB - probIntersection\n",
        "\n",
        "print(\"P (A U B):\", probUnion)\n",
        "\n",
        "# Probability of event A intersection event B\n",
        "print(\"P (A ∩ B):\", probIntersection)\n"
      ],
      "metadata": {
        "colab": {
          "base_uri": "https://localhost:8080/"
        },
        "id": "Wwxoea9N417L",
        "outputId": "e3f2121f-9481-4b26-8677-3deb3b1dc50e"
      },
      "execution_count": 4,
      "outputs": [
        {
          "output_type": "stream",
          "name": "stdout",
          "text": [
            "P (A U B): 0.6666666666666666\n",
            "P (A ∩ B): 0.16666666666666666\n"
          ]
        }
      ]
    },
    {
      "cell_type": "markdown",
      "source": [
        "A manufacturing firm employs three analytical plans for the design and development of a particular product. For cost reasons, all three are used at varying times. In fact, plans 1, 2, and 3 are used for 30%, 20%, and 50% of the products, respectively. The defect rate is different for the three procedures as follows: P(D|P1)=0.01, P(D|P2)=0.03, P(D|P3)=0.02, where P(D|Pj ) is the probability of a defective product, given plan j. If a random product was observed and found to be defective, which plan was most likely used and thus responsible?"
      ],
      "metadata": {
        "id": "TUWev84J7cMu"
      }
    },
    {
      "cell_type": "code",
      "source": [
        "probP1 = 30/100\n",
        "probP2 = 20/100\n",
        "probP3 = 50/100\n",
        "defectP1 = 0.01\n",
        "defectP2 = 0.03\n",
        "defectP3 = 0.02\n",
        "\n",
        "#Bayes theorem is used\n",
        "#Total defect probability\n",
        "probDefect = ((defectP1*probP1)+(defectP2*probP2)+(defectP3*probP3))\n",
        "#calculating plan with highest probability\n",
        "plan1 = ((defectP1 * probP1)/probDefect)\n",
        "plan2 = ((defectP2 * probP2)/probDefect)\n",
        "plan3 = ((defectP3 * probP3)/probDefect)\n",
        "print(plan1,plan2,plan3)\n",
        "if plan1>plan2 and plan1>plan3:\n",
        "  print('Plan 1 is responsible for defect ')\n",
        "elif plan2>plan1 and plan2>plan3:\n",
        "  print(\"Plan 2 is responsible for defect\")\n",
        "else:\n",
        "  print(\"plan 3 is responsible for defect\")\n",
        "\n"
      ],
      "metadata": {
        "colab": {
          "base_uri": "https://localhost:8080/"
        },
        "id": "YLMKH-AQ7kA-",
        "outputId": "5eea5a74-40f9-4d02-fdf1-ecbeb38d6cf4"
      },
      "execution_count": 6,
      "outputs": [
        {
          "output_type": "stream",
          "name": "stdout",
          "text": [
            "0.15789473684210525 0.3157894736842105 0.5263157894736842\n",
            "plan 3 is responsible for defect\n"
          ]
        }
      ]
    }
  ]
}